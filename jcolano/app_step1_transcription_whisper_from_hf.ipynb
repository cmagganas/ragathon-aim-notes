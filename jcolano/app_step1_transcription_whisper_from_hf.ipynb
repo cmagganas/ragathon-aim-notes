{
 "cells": [
  {
   "cell_type": "code",
   "execution_count": null,
   "metadata": {},
   "outputs": [],
   "source": [
    "import whisper\n",
    "import os\n",
    "import glob"
   ]
  },
  {
   "cell_type": "code",
   "execution_count": null,
   "metadata": {},
   "outputs": [],
   "source": [
    "def transcribe_audio(audio_path):\n",
    "    try:    \n",
    "        model = whisper.load_model(\"base\")\n",
    "        transcription_text = model.transcribe(audio_path)        \n",
    "        return transcription_text['text']\n",
    "    except Exception as e: \n",
    "        print(f\"Error doing transcription of {audio_path}: {str(e)}\")\n",
    "        return None \n",
    "    "
   ]
  },
  {
   "cell_type": "code",
   "execution_count": null,
   "metadata": {},
   "outputs": [],
   "source": [
    "def transcribe_meetings(input_folder, output_file):\n",
    "    \"\"\"\n",
    "    Traverses MP4 files in the specified folder, transcribes each,\n",
    "    and saves the transcriptions into a single output file.\n",
    "\n",
    "    Parameters:\n",
    "    - input_folder: Folder containing the MP4 files to be transcribed.\n",
    "    - output_file: Path to the file where all transcriptions will be saved.\n",
    "    \"\"\"\n",
    "    # Pattern to match the MP4 files of interest\n",
    "    file_pattern = os.path.join(input_folder, \"meeting3_chunk_*.mp4\") # We need to make this more generic. This is a temporary hardcode for testing.\n",
    "    \n",
    "    # Find all matching files\n",
    "    mp4_files = sorted(glob.glob(file_pattern))\n",
    "    \n",
    "    # Open the output file for writing\n",
    "    with open(output_file, \"w\", encoding=\"utf-8\") as ofile:\n",
    "        # Process each file\n",
    "        for audio_path in mp4_files:\n",
    "            # Obtain transcription for the current file\n",
    "            transcription = transcribe_audio(audio_path)\n",
    "            if transcription:\n",
    "                # Write the transcription to the output file\n",
    "                ofile.write(transcription + \"\\n\\n\")\n",
    "                print(f\"Processed and added transcription for {audio_path}\")\n",
    "    \n",
    "    print(f\"All transcriptions have been saved to {output_file}\")\n",
    "\n",
    "# Example usage\n",
    "input_folder = 'out'  # Adjust this path as necessary\n",
    "output_file = 'meeting3_transcription.txt'  # The file where transcriptions will be saved\n",
    "transcribe_meetings(input_folder, output_file)"
   ]
  },
  {
   "cell_type": "code",
   "execution_count": null,
   "metadata": {},
   "outputs": [],
   "source": []
  }
 ],
 "metadata": {
  "kernelspec": {
   "display_name": "Python 3",
   "language": "python",
   "name": "python3"
  },
  "language_info": {
   "codemirror_mode": {
    "name": "ipython",
    "version": 3
   },
   "file_extension": ".py",
   "mimetype": "text/x-python",
   "name": "python",
   "nbconvert_exporter": "python",
   "pygments_lexer": "ipython3",
   "version": "3.11.6"
  }
 },
 "nbformat": 4,
 "nbformat_minor": 2
}
